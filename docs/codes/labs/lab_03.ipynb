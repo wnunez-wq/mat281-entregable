{
 "cells": [
  {
   "cell_type": "markdown",
   "metadata": {
    "id": "-K3R__6t7DRR"
   },
   "source": [
    "<a href=\"https://colab.research.google.com/github/fralfaro/MAT281/blob/main/docs/labs/lab_03.ipynb\" target=\"_parent\"><img src=\"https://colab.research.google.com/assets/colab-badge.svg\" alt=\"Open In Colab\"/></a>\n",
    "\n",
    "\n",
    "# MAT281 - Laboratorio N°03\n",
    "\n"
   ]
  },
  {
   "cell_type": "markdown",
   "metadata": {
    "id": "L3cTXZEf7DRV"
   },
   "source": [
    "\n",
    "\n",
    "**Objetivo**: Aplicar técnicas avanzadas de manipulación y análisis de datos con pandas sobre un conjunto real de datos de contenido de Netflix, reforzando buenas prácticas y métodos eficientes sin recurrir a `groupby`, `merge`, `pivot`, ni `join`.\n",
    "\n",
    "\n",
    "\n",
    "**Dataset**:\n",
    "\n",
    "Trabajaremos con el archivo `netflix_titles.csv`, que contiene información sobre los títulos disponibles en la plataforma Netflix hasta el año 2021.\n",
    "\n",
    "| Variable       | Clase     | Descripción                                                                 |\n",
    "|----------------|-----------|------------------------------------------------------------------------------|\n",
    "| show_id        | caracter  | Identificador único del título en el catálogo de Netflix.                   |\n",
    "| type           | caracter  | Tipo de contenido: 'Movie' o 'TV Show'.                                     |\n",
    "| title          | caracter  | Título del contenido.                                                       |\n",
    "| director       | caracter  | Nombre del director (puede ser nulo).                                       |\n",
    "| cast           | caracter  | Lista de actores principales (puede ser nulo).                              |\n",
    "| country        | caracter  | País o países donde se produjo el contenido.                                |\n",
    "| date_added     | fecha     | Fecha en la que el título fue agregado al catálogo de Netflix.              |\n",
    "| release_year   | entero    | Año de lanzamiento original del título.                                     |\n",
    "| rating         | caracter  | Clasificación por edad (por ejemplo: 'PG-13', 'TV-MA').                      |\n",
    "| duration       | caracter  | Duración del contenido (minutos o número de temporadas para series).        |\n",
    "| listed_in      | caracter  | Categorías o géneros en los que está clasificado el contenido.              |\n",
    "| description    | caracter  | Breve sinopsis del contenido.                                               |\n",
    "\n",
    "\n"
   ]
  },
  {
   "cell_type": "code",
   "execution_count": 1,
   "metadata": {
    "id": "GsjGSHb17DRX",
    "outputId": "2f0761fa-2c6c-4d7a-b082-3a0f688fa753"
   },
   "outputs": [
    {
     "data": {
      "text/html": [
       "<div>\n",
       "<style scoped>\n",
       "    .dataframe tbody tr th:only-of-type {\n",
       "        vertical-align: middle;\n",
       "    }\n",
       "\n",
       "    .dataframe tbody tr th {\n",
       "        vertical-align: top;\n",
       "    }\n",
       "\n",
       "    .dataframe thead th {\n",
       "        text-align: right;\n",
       "    }\n",
       "</style>\n",
       "<table border=\"1\" class=\"dataframe\">\n",
       "  <thead>\n",
       "    <tr style=\"text-align: right;\">\n",
       "      <th></th>\n",
       "      <th>show_id</th>\n",
       "      <th>type</th>\n",
       "      <th>title</th>\n",
       "      <th>director</th>\n",
       "      <th>cast</th>\n",
       "      <th>country</th>\n",
       "      <th>date_added</th>\n",
       "      <th>release_year</th>\n",
       "      <th>rating</th>\n",
       "      <th>duration</th>\n",
       "      <th>listed_in</th>\n",
       "      <th>description</th>\n",
       "    </tr>\n",
       "  </thead>\n",
       "  <tbody>\n",
       "    <tr>\n",
       "      <th>0</th>\n",
       "      <td>s1</td>\n",
       "      <td>Movie</td>\n",
       "      <td>Dick Johnson Is Dead</td>\n",
       "      <td>Kirsten Johnson</td>\n",
       "      <td>NaN</td>\n",
       "      <td>United States</td>\n",
       "      <td>September 25, 2021</td>\n",
       "      <td>2020</td>\n",
       "      <td>PG-13</td>\n",
       "      <td>90 min</td>\n",
       "      <td>Documentaries</td>\n",
       "      <td>As her father nears the end of his life, filmm...</td>\n",
       "    </tr>\n",
       "    <tr>\n",
       "      <th>1</th>\n",
       "      <td>s2</td>\n",
       "      <td>TV Show</td>\n",
       "      <td>Blood &amp; Water</td>\n",
       "      <td>NaN</td>\n",
       "      <td>Ama Qamata, Khosi Ngema, Gail Mabalane, Thaban...</td>\n",
       "      <td>South Africa</td>\n",
       "      <td>September 24, 2021</td>\n",
       "      <td>2021</td>\n",
       "      <td>TV-MA</td>\n",
       "      <td>2 Seasons</td>\n",
       "      <td>International TV Shows, TV Dramas, TV Mysteries</td>\n",
       "      <td>After crossing paths at a party, a Cape Town t...</td>\n",
       "    </tr>\n",
       "    <tr>\n",
       "      <th>2</th>\n",
       "      <td>s3</td>\n",
       "      <td>TV Show</td>\n",
       "      <td>Ganglands</td>\n",
       "      <td>Julien Leclercq</td>\n",
       "      <td>Sami Bouajila, Tracy Gotoas, Samuel Jouy, Nabi...</td>\n",
       "      <td>NaN</td>\n",
       "      <td>September 24, 2021</td>\n",
       "      <td>2021</td>\n",
       "      <td>TV-MA</td>\n",
       "      <td>1 Season</td>\n",
       "      <td>Crime TV Shows, International TV Shows, TV Act...</td>\n",
       "      <td>To protect his family from a powerful drug lor...</td>\n",
       "    </tr>\n",
       "    <tr>\n",
       "      <th>3</th>\n",
       "      <td>s4</td>\n",
       "      <td>TV Show</td>\n",
       "      <td>Jailbirds New Orleans</td>\n",
       "      <td>NaN</td>\n",
       "      <td>NaN</td>\n",
       "      <td>NaN</td>\n",
       "      <td>September 24, 2021</td>\n",
       "      <td>2021</td>\n",
       "      <td>TV-MA</td>\n",
       "      <td>1 Season</td>\n",
       "      <td>Docuseries, Reality TV</td>\n",
       "      <td>Feuds, flirtations and toilet talk go down amo...</td>\n",
       "    </tr>\n",
       "    <tr>\n",
       "      <th>4</th>\n",
       "      <td>s5</td>\n",
       "      <td>TV Show</td>\n",
       "      <td>Kota Factory</td>\n",
       "      <td>NaN</td>\n",
       "      <td>Mayur More, Jitendra Kumar, Ranjan Raj, Alam K...</td>\n",
       "      <td>India</td>\n",
       "      <td>September 24, 2021</td>\n",
       "      <td>2021</td>\n",
       "      <td>TV-MA</td>\n",
       "      <td>2 Seasons</td>\n",
       "      <td>International TV Shows, Romantic TV Shows, TV ...</td>\n",
       "      <td>In a city of coaching centers known to train I...</td>\n",
       "    </tr>\n",
       "  </tbody>\n",
       "</table>\n",
       "</div>"
      ],
      "text/plain": [
       "  show_id     type                  title         director  \\\n",
       "0      s1    Movie   Dick Johnson Is Dead  Kirsten Johnson   \n",
       "1      s2  TV Show          Blood & Water              NaN   \n",
       "2      s3  TV Show              Ganglands  Julien Leclercq   \n",
       "3      s4  TV Show  Jailbirds New Orleans              NaN   \n",
       "4      s5  TV Show           Kota Factory              NaN   \n",
       "\n",
       "                                                cast        country  \\\n",
       "0                                                NaN  United States   \n",
       "1  Ama Qamata, Khosi Ngema, Gail Mabalane, Thaban...   South Africa   \n",
       "2  Sami Bouajila, Tracy Gotoas, Samuel Jouy, Nabi...            NaN   \n",
       "3                                                NaN            NaN   \n",
       "4  Mayur More, Jitendra Kumar, Ranjan Raj, Alam K...          India   \n",
       "\n",
       "           date_added  release_year rating   duration  \\\n",
       "0  September 25, 2021          2020  PG-13     90 min   \n",
       "1  September 24, 2021          2021  TV-MA  2 Seasons   \n",
       "2  September 24, 2021          2021  TV-MA   1 Season   \n",
       "3  September 24, 2021          2021  TV-MA   1 Season   \n",
       "4  September 24, 2021          2021  TV-MA  2 Seasons   \n",
       "\n",
       "                                           listed_in  \\\n",
       "0                                      Documentaries   \n",
       "1    International TV Shows, TV Dramas, TV Mysteries   \n",
       "2  Crime TV Shows, International TV Shows, TV Act...   \n",
       "3                             Docuseries, Reality TV   \n",
       "4  International TV Shows, Romantic TV Shows, TV ...   \n",
       "\n",
       "                                         description  \n",
       "0  As her father nears the end of his life, filmm...  \n",
       "1  After crossing paths at a party, a Cape Town t...  \n",
       "2  To protect his family from a powerful drug lor...  \n",
       "3  Feuds, flirtations and toilet talk go down amo...  \n",
       "4  In a city of coaching centers known to train I...  "
      ]
     },
     "execution_count": 1,
     "metadata": {},
     "output_type": "execute_result"
    }
   ],
   "source": [
    "import pandas as pd\n",
    "\n",
    "# Cargar datos\n",
    "df = pd.read_csv('https://raw.githubusercontent.com/fralfaro/MAT281/main/docs/labs/data/netflix_titles.csv')\n",
    "df.head()"
   ]
  },
  {
   "cell_type": "markdown",
   "metadata": {
    "id": "tJo74ueR7DRY"
   },
   "source": [
    "\n",
    "### Parte 1: Limpieza y preparación\n",
    "\n",
    "1. Revisar y describir el dataset:\n",
    "\n",
    "   * ¿Cuántas filas y columnas tiene?\n",
    "   * ¿Qué tipos de datos hay?\n",
    "   * ¿Cuántos valores nulos hay por columna?\n",
    "\n",
    "2. Transformar la columna `date_added` a tipo fecha.\n",
    "\n",
    "3. Crear columnas auxiliares con `assign`:\n",
    "\n",
    "   * Año (`year_added`)\n",
    "   * Mes (`month_added`)\n",
    "\n"
   ]
  },
  {
   "cell_type": "code",
   "execution_count": 24,
   "metadata": {
    "id": "tqSFA1Q97DRZ"
   },
   "outputs": [
    {
     "name": "stdout",
     "output_type": "stream",
     "text": [
      "cantidad de filas:  8807 ; cantidad de columnas:  12\n",
      "cantidad de filas y columnas es: (8807, 12)\n"
     ]
    }
   ],
   "source": [
    "#FIXME\n",
    "# PARTE 1\n",
    "print(\"cantidad de filas: \", len(df), \"; cantidad de columnas: \", len(df.columns))\n",
    "print(\"cantidad de filas y columnas es:\",df.shape)\n"
   ]
  },
  {
   "cell_type": "code",
   "execution_count": 25,
   "metadata": {},
   "outputs": [
    {
     "name": "stdout",
     "output_type": "stream",
     "text": [
      "Los tipos de datos que hay son:\n",
      " show_id         object\n",
      "type            object\n",
      "title           object\n",
      "director        object\n",
      "cast            object\n",
      "country         object\n",
      "date_added      object\n",
      "release_year     int64\n",
      "rating          object\n",
      "duration        object\n",
      "listed_in       object\n",
      "description     object\n",
      "dtype: object\n"
     ]
    }
   ],
   "source": [
    "print(\"Los tipos de datos que hay son:\\n\",df.dtypes)\n",
    "\n",
    "\n"
   ]
  },
  {
   "cell_type": "code",
   "execution_count": 4,
   "metadata": {},
   "outputs": [
    {
     "name": "stdout",
     "output_type": "stream",
     "text": [
      "Valores nulos por columna:\n",
      " show_id            0\n",
      "type               0\n",
      "title              0\n",
      "director        2634\n",
      "cast             825\n",
      "country          831\n",
      "date_added        10\n",
      "release_year       0\n",
      "rating             4\n",
      "duration           3\n",
      "listed_in          0\n",
      "description        0\n",
      "dtype: int64\n"
     ]
    }
   ],
   "source": [
    "#valores nulos por columna\n",
    "\n",
    "print(\"Valores nulos por columna:\\n\", df.isna().sum())"
   ]
  },
  {
   "cell_type": "code",
   "execution_count": 5,
   "metadata": {},
   "outputs": [
    {
     "name": "stdout",
     "output_type": "stream",
     "text": [
      "0   2021-09-25\n",
      "1   2021-09-24\n",
      "2   2021-09-24\n",
      "3   2021-09-24\n",
      "4   2021-09-24\n",
      "Name: date_added, dtype: datetime64[ns]\n"
     ]
    }
   ],
   "source": [
    "# PARTE 2: Transformar la columna date_added a tipo fecha (robusto)\n",
    "# Limpia espacios y vacíos si la columna es de texto\n",
    "if df[\"date_added\"].dtype == \"O\":\n",
    "    df[\"date_added\"] = df[\"date_added\"].str.strip()\n",
    "    # convierte cadenas vacías en NA antes de parsear\n",
    "    df[\"date_added\"] = df[\"date_added\"].replace(r\"^\\s*$\", pd.NA, regex=True)\n",
    "\n",
    "# Parseo con coerce para no romper si hay valores inválidos\n",
    "df[\"date_added\"] = pd.to_datetime(df[\"date_added\"], errors=\"coerce\")\n",
    "\n",
    "print(df[\"date_added\"].head())  # vista rápida, evita imprimir toda la serie"
   ]
  },
  {
   "cell_type": "code",
   "execution_count": 6,
   "metadata": {},
   "outputs": [
    {
     "name": "stdout",
     "output_type": "stream",
     "text": [
      "  date_added  year_added  month_added\n",
      "0 2021-09-25        2021            9\n",
      "1 2021-09-24        2021            9\n",
      "2 2021-09-24        2021            9\n",
      "3 2021-09-24        2021            9\n",
      "4 2021-09-24        2021            9\n"
     ]
    }
   ],
   "source": [
    "# PARTE 3: crear columnas año/mes con enteros \"nullable\"\n",
    "df = df.assign(\n",
    "    year_added = df[\"date_added\"].dt.year.astype(\"Int64\"),\n",
    "    month_added = df[\"date_added\"].dt.month.astype(\"Int64\")\n",
    ")\n",
    "\n",
    "print(df[[\"date_added\", \"year_added\", \"month_added\"]].head())"
   ]
  },
  {
   "cell_type": "markdown",
   "metadata": {
    "id": "xuKBnih67DRZ"
   },
   "source": [
    "# Parte 2: Técnicas avanzadas de pandas\n",
    "\n",
    "4. Utilizar `.loc` para seleccionar películas (`type == 'Movie'`) que fueron agregadas después del año 2018.\n",
    "\n",
    "5. Utilizar `str.contains()` y `str.extract()`:\n",
    "\n",
    "   * Filtrar títulos que contienen la palabra 'love' (sin distinguir mayúsculas/minúsculas).\n",
    "   * Extraer la duración en minutos para las películas desde la columna `duration`.\n",
    "\n",
    "6. Aplicar `explode()` sobre la columna `listed_in` para obtener una fila por cada género.\n",
    "\n",
    "7. Obtener un top 10 de géneros más frecuentes utilizando `value_counts()`.\n",
    "\n",
    "8. Aplicar `where()` y `mask()` para marcar las películas de más de 120 minutos como contenido largo en una nueva columna.\n",
    "\n",
    "9. Utilizar `.loc` para filtrar películas que cumplen con:\n",
    "\n",
    "   * Más de 100 minutos de duración.\n",
    "   * Rating igual a `'R'`.\n",
    "   * País igual a `'United States'`.\n",
    "\n",
    "10. Utilizar `.style` para formatear visualmente el top 10 de películas más largas."
   ]
  },
  {
   "cell_type": "markdown",
   "metadata": {
    "id": "kx-R1L8k7DRZ"
   },
   "source": [
    "\n",
    "\n",
    "### Pregunta Desafío\n",
    "\n",
    "11. ¿Cuáles son las combinaciones más frecuentes de género y rating en el dataset?\n",
    "    (Sugerencia: utilizar `value_counts` con `subset=[\"genre\", \"rating\"]` después de aplicar `explode()`).\n",
    "\n",
    "\n",
    "\n",
    "### Bonus: Análisis de duplicados y limpieza\n",
    "\n",
    "12. ¿Existen películas con el mismo nombre (`title`) pero con distinto año de lanzamiento (`release_year`)?\n",
    "13. ¿Cuántos títulos únicos hay en total en la columna `title`?\n",
    "\n",
    "\n",
    "\n"
   ]
  },
  {
   "cell_type": "code",
   "execution_count": 7,
   "metadata": {
    "id": "4qCjtauh7DRZ"
   },
   "outputs": [
    {
     "name": "stdout",
     "output_type": "stream",
     "text": [
      "     type date_added  year_added\n",
      "0   Movie 2021-09-25        2021\n",
      "6   Movie 2021-09-24        2021\n",
      "7   Movie 2021-09-24        2021\n",
      "9   Movie 2021-09-24        2021\n",
      "12  Movie 2021-09-23        2021\n"
     ]
    }
   ],
   "source": [
    "#FIXME\n",
    "#Parte 4: Utilizar .loc para seleccionar películas (type == 'Movie') que fueron agregadas después del año 2018\n",
    "condicion = (df[\"type\"] == \"Movie\") & (df[\"year_added\"] > 2018)\n",
    "pelis = df.loc[condicion, [\"type\", \"date_added\", \"year_added\"]]\n",
    "print(pelis.head())\n"
   ]
  },
  {
   "cell_type": "code",
   "execution_count": 8,
   "metadata": {},
   "outputs": [
    {
     "name": "stdout",
     "output_type": "stream",
     "text": [
      "                         title     type   duration\n",
      "25        Love on the Spectrum  TV Show  2 Seasons\n",
      "158    Love Don't Cost a Thing    Movie    101 min\n",
      "159             Love in a Puff    Movie    103 min\n",
      "206  LSD: Love, Sex Aur Dhokha    Movie    112 min\n",
      "227                Really Love    Movie     95 min\n",
      "196\n"
     ]
    }
   ],
   "source": [
    "#Parte 5: \n",
    "# Filtrar títulos que contienen 'love' (case-insensitive)\n",
    "mask_love = df[\"title\"].str.contains(\"love\", case=False, na=False)\n",
    "love_titles = df.loc[mask_love, [\"title\", \"type\", \"duration\"]]\n",
    "print(love_titles.head())\n",
    "print(len(love_titles))\n",
    "\n",
    "# Extraer minutos SOLO para Movies (quedan <NA> para TV Shows)\n",
    "mask_movie = df[\"type\"].eq(\"Movie\")\n",
    "df.loc[mask_movie, \"duration_min\"] = (\n",
    "    df.loc[mask_movie, \"duration\"].str.extract(r\"(\\d+)\\s*min\", expand=False).astype(\"Int64\")\n",
    ")"
   ]
  },
  {
   "cell_type": "code",
   "execution_count": 9,
   "metadata": {
    "id": "sENtwL717DRa"
   },
   "outputs": [
    {
     "name": "stdout",
     "output_type": "stream",
     "text": [
      "                  title                   genre\n",
      "0  Dick Johnson Is Dead           Documentaries\n",
      "1         Blood & Water  International TV Shows\n",
      "1         Blood & Water               TV Dramas\n",
      "1         Blood & Water            TV Mysteries\n",
      "2             Ganglands          Crime TV Shows\n"
     ]
    }
   ],
   "source": [
    "#Parte 6:\n",
    "df_exploded = df.assign(genre = df[\"listed_in\"].str.split(\",\")) \\\n",
    "                .explode(\"genre\")\n",
    "df_exploded[\"genre\"] = df_exploded[\"genre\"].str.strip()\n",
    "df_exploded = df_exploded[df_exploded[\"genre\"].notna() & (df_exploded[\"genre\"] != \"\")]\n",
    "print(df_exploded[[\"title\", \"genre\"]].head())\n"
   ]
  },
  {
   "cell_type": "code",
   "execution_count": 10,
   "metadata": {},
   "outputs": [
    {
     "name": "stdout",
     "output_type": "stream",
     "text": [
      "genre\n",
      "International Movies        2752\n",
      "Dramas                      2427\n",
      "Comedies                    1674\n",
      "International TV Shows      1351\n",
      "Documentaries                869\n",
      "Action & Adventure           859\n",
      "TV Dramas                    763\n",
      "Independent Movies           756\n",
      "Children & Family Movies     641\n",
      "Romantic Movies              616\n",
      "Name: count, dtype: int64\n"
     ]
    }
   ],
   "source": [
    "#Parte 7:\n",
    "# Top 10 géneros más frecuentes\n",
    "top10 = df_exploded[\"genre\"].value_counts().head(10)\n",
    "print(top10)\n"
   ]
  },
  {
   "cell_type": "code",
   "execution_count": 11,
   "metadata": {},
   "outputs": [
    {
     "name": "stdout",
     "output_type": "stream",
     "text": [
      "                               title  duration_min contenido_largo_where  \\\n",
      "0               Dick Johnson Is Dead            90                   NaN   \n",
      "6   My Little Pony: A New Generation            91                   NaN   \n",
      "7                            Sankofa           125       Contenido largo   \n",
      "9                       The Starling           104                   NaN   \n",
      "12                      Je Suis Karl           127       Contenido largo   \n",
      "\n",
      "   contenido_largo_mask  \n",
      "0                    No  \n",
      "6                    No  \n",
      "7                    Sí  \n",
      "9                    No  \n",
      "12                   Sí  \n"
     ]
    }
   ],
   "source": [
    "#Parte 8:\n",
    "# Asegurar duration_min (si no lo hiciste arriba)\n",
    "mask_movie = df[\"type\"].eq(\"Movie\")\n",
    "df.loc[mask_movie, \"duration_min\"] = (\n",
    "    df.loc[mask_movie, \"duration\"].str.extract(r\"(\\d+)\\s*min\", expand=False).astype(\"Int64\")\n",
    ")\n",
    "\n",
    "cond_long = mask_movie & df[\"duration_min\"].gt(120)\n",
    "\n",
    "# where: deja \"Contenido largo\" donde True y NaN donde False\n",
    "df[\"contenido_largo_where\"] = pd.Series(\"Contenido largo\", index=df.index).where(cond_long)\n",
    "\n",
    "# mask: parte de \"No\" y reemplaza a \"Sí\" donde True\n",
    "df[\"contenido_largo_mask\"] = \"No\"\n",
    "df[\"contenido_largo_mask\"] = df[\"contenido_largo_mask\"].mask(cond_long, \"Sí\")\n",
    "\n",
    "print(df.loc[mask_movie, [\"title\", \"duration_min\", \"contenido_largo_where\", \"contenido_largo_mask\"]].head())\n",
    "\n",
    "\n"
   ]
  },
  {
   "cell_type": "code",
   "execution_count": 12,
   "metadata": {},
   "outputs": [
    {
     "name": "stdout",
     "output_type": "stream",
     "text": [
      "                           title duration  duration_min rating_norm  \\\n",
      "48                  Training Day  122 min           122           R   \n",
      "81                          Kate  106 min           106           R   \n",
      "131  Blade Runner: The Final Cut  117 min           117           R   \n",
      "139           Do the Right Thing  120 min           120           R   \n",
      "144                  House Party  104 min           104           R   \n",
      "\n",
      "           country  \n",
      "48   United States  \n",
      "81   United States  \n",
      "131  United States  \n",
      "139  United States  \n",
      "144  United States  \n",
      "243\n"
     ]
    }
   ],
   "source": [
    "#Parte 9:\n",
    "# Normaliza rating por si trae espacios\n",
    "df[\"rating_norm\"] = df[\"rating\"].astype(str).str.strip()\n",
    "\n",
    "# Opción EXACTA (como escribiste):\n",
    "cond = (\n",
    "    df[\"type\"].eq(\"Movie\")\n",
    "    & df[\"duration_min\"].gt(100)\n",
    "    & df[\"rating_norm\"].eq(\"R\")\n",
    "    & df[\"country\"].eq(\"United States\")\n",
    ")\n",
    "\n",
    "# Opción INCLUYE EE.UU. (si tu dataset trae \"United States, Canada\"):\n",
    "# cond = (\n",
    "#     df[\"type\"].eq(\"Movie\")\n",
    "#     & df[\"duration_min\"].gt(100)\n",
    "#     & df[\"rating_norm\"].eq(\"R\")\n",
    "#     & df[\"country\"].astype(str).str.contains(r\"\\bUnited States\\b\", na=False)\n",
    "# )\n",
    "\n",
    "pelis = df.loc[cond, [\"title\", \"duration\", \"duration_min\", \"rating_norm\", \"country\"]]\n",
    "print(pelis.head())\n",
    "print(len(pelis))\n",
    "\n",
    "\n"
   ]
  },
  {
   "cell_type": "code",
   "execution_count": 13,
   "metadata": {},
   "outputs": [
    {
     "data": {
      "text/html": [
       "<style type=\"text/css\">\n",
       "#T_7cb97_row0_col2 {\n",
       "  width: 10em;\n",
       "  background: linear-gradient(90deg, #d65f5f 100.0%, transparent 100.0%);\n",
       "}\n",
       "#T_7cb97_row1_col2 {\n",
       "  width: 10em;\n",
       "  background: linear-gradient(90deg, #d65f5f 60.2%, transparent 60.2%);\n",
       "}\n",
       "#T_7cb97_row2_col2 {\n",
       "  width: 10em;\n",
       "  background: linear-gradient(90deg, #d65f5f 39.8%, transparent 39.8%);\n",
       "}\n",
       "#T_7cb97_row3_col2 {\n",
       "  width: 10em;\n",
       "  background: linear-gradient(90deg, #d65f5f 23.5%, transparent 23.5%);\n",
       "}\n",
       "#T_7cb97_row4_col2 {\n",
       "  width: 10em;\n",
       "  background: linear-gradient(90deg, #d65f5f 19.4%, transparent 19.4%);\n",
       "}\n",
       "#T_7cb97_row5_col2 {\n",
       "  width: 10em;\n",
       "  background: linear-gradient(90deg, #d65f5f 16.3%, transparent 16.3%);\n",
       "}\n",
       "#T_7cb97_row6_col2 {\n",
       "  width: 10em;\n",
       "  background: linear-gradient(90deg, #d65f5f 15.3%, transparent 15.3%);\n",
       "}\n",
       "#T_7cb97_row7_col2 {\n",
       "  width: 10em;\n",
       "  background: linear-gradient(90deg, #d65f5f 14.3%, transparent 14.3%);\n",
       "}\n",
       "#T_7cb97_row8_col2 {\n",
       "  width: 10em;\n",
       "  background: linear-gradient(90deg, #d65f5f 10.2%, transparent 10.2%);\n",
       "}\n",
       "#T_7cb97_row9_col2 {\n",
       "  width: 10em;\n",
       "}\n",
       "</style>\n",
       "<table id=\"T_7cb97\">\n",
       "  <caption>Top 10 películas más largas</caption>\n",
       "  <thead>\n",
       "    <tr>\n",
       "      <th class=\"blank level0\" >&nbsp;</th>\n",
       "      <th id=\"T_7cb97_level0_col0\" class=\"col_heading level0 col0\" >title</th>\n",
       "      <th id=\"T_7cb97_level0_col1\" class=\"col_heading level0 col1\" >duration</th>\n",
       "      <th id=\"T_7cb97_level0_col2\" class=\"col_heading level0 col2\" >duration_min</th>\n",
       "      <th id=\"T_7cb97_level0_col3\" class=\"col_heading level0 col3\" >rating</th>\n",
       "      <th id=\"T_7cb97_level0_col4\" class=\"col_heading level0 col4\" >country</th>\n",
       "    </tr>\n",
       "  </thead>\n",
       "  <tbody>\n",
       "    <tr>\n",
       "      <th id=\"T_7cb97_level0_row0\" class=\"row_heading level0 row0\" >0</th>\n",
       "      <td id=\"T_7cb97_row0_col0\" class=\"data row0 col0\" >Black Mirror: Bandersnatch</td>\n",
       "      <td id=\"T_7cb97_row0_col1\" class=\"data row0 col1\" >312 min</td>\n",
       "      <td id=\"T_7cb97_row0_col2\" class=\"data row0 col2\" >312 min</td>\n",
       "      <td id=\"T_7cb97_row0_col3\" class=\"data row0 col3\" >TV-MA</td>\n",
       "      <td id=\"T_7cb97_row0_col4\" class=\"data row0 col4\" >United States</td>\n",
       "    </tr>\n",
       "    <tr>\n",
       "      <th id=\"T_7cb97_level0_row1\" class=\"row_heading level0 row1\" >1</th>\n",
       "      <td id=\"T_7cb97_row1_col0\" class=\"data row1 col0\" >Headspace: Unwind Your Mind</td>\n",
       "      <td id=\"T_7cb97_row1_col1\" class=\"data row1 col1\" >273 min</td>\n",
       "      <td id=\"T_7cb97_row1_col2\" class=\"data row1 col2\" >273 min</td>\n",
       "      <td id=\"T_7cb97_row1_col3\" class=\"data row1 col3\" >TV-G</td>\n",
       "      <td id=\"T_7cb97_row1_col4\" class=\"data row1 col4\" >nan</td>\n",
       "    </tr>\n",
       "    <tr>\n",
       "      <th id=\"T_7cb97_level0_row2\" class=\"row_heading level0 row2\" >2</th>\n",
       "      <td id=\"T_7cb97_row2_col0\" class=\"data row2 col0\" >The School of Mischief</td>\n",
       "      <td id=\"T_7cb97_row2_col1\" class=\"data row2 col1\" >253 min</td>\n",
       "      <td id=\"T_7cb97_row2_col2\" class=\"data row2 col2\" >253 min</td>\n",
       "      <td id=\"T_7cb97_row2_col3\" class=\"data row2 col3\" >TV-14</td>\n",
       "      <td id=\"T_7cb97_row2_col4\" class=\"data row2 col4\" >Egypt</td>\n",
       "    </tr>\n",
       "    <tr>\n",
       "      <th id=\"T_7cb97_level0_row3\" class=\"row_heading level0 row3\" >3</th>\n",
       "      <td id=\"T_7cb97_row3_col0\" class=\"data row3 col0\" >No Longer kids</td>\n",
       "      <td id=\"T_7cb97_row3_col1\" class=\"data row3 col1\" >237 min</td>\n",
       "      <td id=\"T_7cb97_row3_col2\" class=\"data row3 col2\" >237 min</td>\n",
       "      <td id=\"T_7cb97_row3_col3\" class=\"data row3 col3\" >TV-14</td>\n",
       "      <td id=\"T_7cb97_row3_col4\" class=\"data row3 col4\" >Egypt</td>\n",
       "    </tr>\n",
       "    <tr>\n",
       "      <th id=\"T_7cb97_level0_row4\" class=\"row_heading level0 row4\" >4</th>\n",
       "      <td id=\"T_7cb97_row4_col0\" class=\"data row4 col0\" >Lock Your Girls In</td>\n",
       "      <td id=\"T_7cb97_row4_col1\" class=\"data row4 col1\" >233 min</td>\n",
       "      <td id=\"T_7cb97_row4_col2\" class=\"data row4 col2\" >233 min</td>\n",
       "      <td id=\"T_7cb97_row4_col3\" class=\"data row4 col3\" >TV-PG</td>\n",
       "      <td id=\"T_7cb97_row4_col4\" class=\"data row4 col4\" >nan</td>\n",
       "    </tr>\n",
       "    <tr>\n",
       "      <th id=\"T_7cb97_level0_row5\" class=\"row_heading level0 row5\" >5</th>\n",
       "      <td id=\"T_7cb97_row5_col0\" class=\"data row5 col0\" >Raya and Sakina</td>\n",
       "      <td id=\"T_7cb97_row5_col1\" class=\"data row5 col1\" >230 min</td>\n",
       "      <td id=\"T_7cb97_row5_col2\" class=\"data row5 col2\" >230 min</td>\n",
       "      <td id=\"T_7cb97_row5_col3\" class=\"data row5 col3\" >TV-14</td>\n",
       "      <td id=\"T_7cb97_row5_col4\" class=\"data row5 col4\" >nan</td>\n",
       "    </tr>\n",
       "    <tr>\n",
       "      <th id=\"T_7cb97_level0_row6\" class=\"row_heading level0 row6\" >6</th>\n",
       "      <td id=\"T_7cb97_row6_col0\" class=\"data row6 col0\" >Once Upon a Time in America</td>\n",
       "      <td id=\"T_7cb97_row6_col1\" class=\"data row6 col1\" >229 min</td>\n",
       "      <td id=\"T_7cb97_row6_col2\" class=\"data row6 col2\" >229 min</td>\n",
       "      <td id=\"T_7cb97_row6_col3\" class=\"data row6 col3\" >R</td>\n",
       "      <td id=\"T_7cb97_row6_col4\" class=\"data row6 col4\" >Italy, United States</td>\n",
       "    </tr>\n",
       "    <tr>\n",
       "      <th id=\"T_7cb97_level0_row7\" class=\"row_heading level0 row7\" >7</th>\n",
       "      <td id=\"T_7cb97_row7_col0\" class=\"data row7 col0\" >Sangam</td>\n",
       "      <td id=\"T_7cb97_row7_col1\" class=\"data row7 col1\" >228 min</td>\n",
       "      <td id=\"T_7cb97_row7_col2\" class=\"data row7 col2\" >228 min</td>\n",
       "      <td id=\"T_7cb97_row7_col3\" class=\"data row7 col3\" >TV-14</td>\n",
       "      <td id=\"T_7cb97_row7_col4\" class=\"data row7 col4\" >India</td>\n",
       "    </tr>\n",
       "    <tr>\n",
       "      <th id=\"T_7cb97_level0_row8\" class=\"row_heading level0 row8\" >8</th>\n",
       "      <td id=\"T_7cb97_row8_col0\" class=\"data row8 col0\" >Lagaan</td>\n",
       "      <td id=\"T_7cb97_row8_col1\" class=\"data row8 col1\" >224 min</td>\n",
       "      <td id=\"T_7cb97_row8_col2\" class=\"data row8 col2\" >224 min</td>\n",
       "      <td id=\"T_7cb97_row8_col3\" class=\"data row8 col3\" >PG</td>\n",
       "      <td id=\"T_7cb97_row8_col4\" class=\"data row8 col4\" >India, United Kingdom</td>\n",
       "    </tr>\n",
       "    <tr>\n",
       "      <th id=\"T_7cb97_level0_row9\" class=\"row_heading level0 row9\" >9</th>\n",
       "      <td id=\"T_7cb97_row9_col0\" class=\"data row9 col0\" >Jodhaa Akbar</td>\n",
       "      <td id=\"T_7cb97_row9_col1\" class=\"data row9 col1\" >214 min</td>\n",
       "      <td id=\"T_7cb97_row9_col2\" class=\"data row9 col2\" >214 min</td>\n",
       "      <td id=\"T_7cb97_row9_col3\" class=\"data row9 col3\" >TV-14</td>\n",
       "      <td id=\"T_7cb97_row9_col4\" class=\"data row9 col4\" >India</td>\n",
       "    </tr>\n",
       "  </tbody>\n",
       "</table>\n"
      ],
      "text/plain": [
       "<pandas.io.formats.style.Styler at 0x1db3097e480>"
      ]
     },
     "execution_count": 13,
     "metadata": {},
     "output_type": "execute_result"
    }
   ],
   "source": [
    "#Parte 10:\n",
    "\n",
    "mask_movie = df[\"type\"].eq(\"Movie\")\n",
    "# duration_min ya calculado arriba\n",
    "\n",
    "top10_movies = (\n",
    "    df.loc[mask_movie & df[\"duration_min\"].notna(), [\"title\", \"duration\", \"duration_min\", \"rating\", \"country\"]]\n",
    "      .sort_values(\"duration_min\", ascending=False)\n",
    "      .head(10)\n",
    "      .reset_index(drop=True)\n",
    ")\n",
    "top10_movies[\"duration_min\"] = top10_movies[\"duration_min\"].astype(int)\n",
    "\n",
    "# En notebook, haz que ESTA sea la última línea de la celda o usa display(top10_movies.style...)\n",
    "top10_movies.style\\\n",
    "    .format({\"duration_min\": \"{:,.0f} min\"})\\\n",
    "    .bar(subset=[\"duration_min\"], align=\"left\")\\\n",
    "    .set_caption(\"Top 10 películas más largas\")\n"
   ]
  },
  {
   "cell_type": "code",
   "execution_count": 14,
   "metadata": {},
   "outputs": [
    {
     "name": "stdout",
     "output_type": "stream",
     "text": [
      "                    genre rating  count\n",
      "0    International Movies  TV-MA   1130\n",
      "1    International Movies  TV-14   1065\n",
      "2                  Dramas  TV-MA    830\n",
      "3  International TV Shows  TV-MA    714\n",
      "4                  Dramas  TV-14    693\n",
      "5  International TV Shows  TV-14    472\n",
      "6                Comedies  TV-14    465\n",
      "7               TV Dramas  TV-MA    434\n",
      "8                Comedies  TV-MA    431\n",
      "9                  Dramas      R    375\n"
     ]
    }
   ],
   "source": [
    "#Parte 11:\n",
    "top = (\n",
    "    df_exploded[[\"genre\", \"rating\"]]\n",
    "      .value_counts(dropna=False)           # cuenta pares (genre, rating)\n",
    "      .reset_index(name=\"count\")            # a columnas\n",
    "      .sort_values(\"count\", ascending=False)\n",
    "      .head(10)\n",
    ")\n",
    "print(top)\n"
   ]
  },
  {
   "cell_type": "code",
   "execution_count": 15,
   "metadata": {},
   "outputs": [
    {
     "name": "stdout",
     "output_type": "stream",
     "text": [
      "Títulos con >1 release_year (dataset completo): 0\n",
      "Empty DataFrame\n",
      "Columns: [title, release_year]\n",
      "Index: []\n",
      "Títulos únicos totales: 8807\n"
     ]
    }
   ],
   "source": [
    "#Parte 12:\n",
    "\n",
    "# ¿Títulos con distinto release_year?\n",
    "g = df.groupby(\"title\")[\"release_year\"]\n",
    "multi_mask = g.nunique() > 1\n",
    "print(\"Títulos con >1 release_year (dataset completo):\", int(multi_mask.sum()))\n",
    "\n",
    "# Muestra rápida (primeros 20)\n",
    "print(\n",
    "    df.loc[df[\"title\"].isin(multi_mask[multi_mask].index), [\"title\",\"release_year\"]]\n",
    "      .drop_duplicates()\n",
    "      .sort_values([\"title\",\"release_year\"])\n",
    "      .head(20)\n",
    ")\n",
    "\n",
    "# ¿Cuántos títulos únicos hay en total?\n",
    "print(\"Títulos únicos totales:\", df[\"title\"].nunique())\n"
   ]
  }
 ],
 "metadata": {
  "colab": {
   "provenance": []
  },
  "kernelspec": {
   "display_name": "Python 3 (ipykernel)",
   "language": "python",
   "name": "python3"
  },
  "language_info": {
   "codemirror_mode": {
    "name": "ipython",
    "version": 3
   },
   "file_extension": ".py",
   "mimetype": "text/x-python",
   "name": "python",
   "nbconvert_exporter": "python",
   "pygments_lexer": "ipython3",
   "version": "3.12.4"
  }
 },
 "nbformat": 4,
 "nbformat_minor": 4
}
