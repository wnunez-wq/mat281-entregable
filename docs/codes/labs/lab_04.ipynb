{
 "cells": [
  {
   "cell_type": "markdown",
   "id": "64fe4451",
   "metadata": {
    "id": "64fe4451"
   },
   "source": [
    "<a href=\"https://colab.research.google.com/github/fralfaro/MAT281/blob/main/docs/labs/lab_04.ipynb\" target=\"_parent\"><img src=\"https://colab.research.google.com/assets/colab-badge.svg\" alt=\"Open In Colab\"/></a>\n",
    "\n",
    "# MAT281 - Laboratorio N°04\n"
   ]
  },
  {
   "cell_type": "markdown",
   "id": "27b10378",
   "metadata": {
    "id": "27b10378"
   },
   "source": [
    "**Objetivo**: Aplicar técnicas intermedias y avanzadas de análisis de datos con pandas utilizando un caso real: el Índice de Libertad de Prensa. Este laboratorio incluye operaciones de limpieza, transformación, combinación de datos, y análisis exploratorio usando `merge`, `groupby`, `concat` y otras funciones fundamentales.\n"
   ]
  },
  {
   "cell_type": "markdown",
   "id": "63a15921",
   "metadata": {
    "id": "63a15921"
   },
   "source": [
    "\n",
    "\n",
    "**Descripción del Dataset**\n",
    "\n",
    "El presente conjunto de datos está orientado al análisis del **Índice de Libertad de Prensa**, una métrica internacional que evalúa el nivel de libertad del que gozan periodistas y medios de comunicación en distintos países. Este índice es recopilado anualmente por la organización **Reporteros sin Fronteras**.\n",
    "\n",
    "La base de datos contempla observaciones por país y año, e incluye tanto el valor del índice como el ranking correspondiente. A menor puntaje en el índice, mayor nivel de libertad de prensa.\n",
    "\n",
    "**Diccionario de variables**\n",
    "\n",
    "| Variable     | Clase    | Descripción                                                                          |\n",
    "| ------------ | -------- | ------------------------------------------------------------------------------------ |\n",
    "| `codigo_iso` | carácter | Código ISO 3166-1 alfa-3 que representa a cada país.                                 |\n",
    "| `pais`       | carácter | Nombre oficial del país.                                                             |\n",
    "| `anio`       | entero   | Año en que se registró la medición del índice.                                       |\n",
    "| `indice`     | numérico | Valor numérico del Índice de Libertad de Prensa (menor valor indica mayor libertad). |\n",
    "| `ranking`    | entero   | Posición relativa del país en el ranking mundial de libertad de prensa.              |\n",
    "\n",
    "\n",
    "**Fuente original y adaptación pedagógica**\n",
    "\n",
    "* **Fuente original**: [Reporteros sin Fronteras](https://www.rsf-es.org/), recopilado y publicado a través del portal del [Banco Mundial](https://tcdata360.worldbank.org/indicators/h3f86901f?country=BRA&indicator=32416&viz=line_chart&years=2001,2019).\n",
    "* **Adaptación educativa**: Los archivos han sido modificados intencionalmente para incorporar desafíos técnicos que permiten aplicar los contenidos abordados en clases, tales como limpieza de datos, normalización, detección de duplicados, y combinación de fuentes.\n",
    "\n",
    "\n",
    "**Descripción de los archivos disponibles**\n",
    "\n",
    "* **`libertad_prensa_codigo.csv`**: Contiene los pares `codigo_iso` y `pais`. Incluye intencionalmente un código ISO con dos nombres distintos de país para efectos de limpieza y validación de datos.\n",
    "\n",
    "* **`libertad_prensa_01.csv`**: Contiene registros de los años **anteriores a 2010**. Incluye las variables `PAIS`, `ANIO`, `INDICE`, y `RANKING` con nombres de columna en **mayúsculas**.\n",
    "\n",
    "* **`libertad_prensa_02.csv`**: Contiene registros de los años **desde 2010 en adelante**. Estructura similar al archivo anterior, con nombres de columna también en **mayúsculas**.\n",
    "\n",
    "\n",
    "\n"
   ]
  },
  {
   "cell_type": "code",
   "execution_count": 29,
   "id": "28a58320",
   "metadata": {
    "id": "28a58320"
   },
   "outputs": [],
   "source": [
    "import numpy as np\n",
    "import pandas as pd\n",
    "\n",
    "# lectura de datos\n",
    "archivos_anio = [\n",
    "    'https://raw.githubusercontent.com/fralfaro/MAT281/main/docs/labs/data/libertad_prensa_01.csv',\n",
    "    'https://raw.githubusercontent.com/fralfaro/MAT281/main/docs/labs/data/libertad_prensa_02.csv'\n",
    " ]\n",
    "df_codigos = pd.read_csv('https://raw.githubusercontent.com/fralfaro/MAT281/main/docs/labs/data/libertad_prensa_codigo.csv')"
   ]
  },
  {
   "cell_type": "markdown",
   "id": "0894056d",
   "metadata": {
    "id": "0894056d"
   },
   "source": [
    "\n",
    "\n",
    "### 1. Consolidación y limpieza de datos\n",
    "\n",
    "A partir de los archivos disponibles, realice los siguientes pasos:\n",
    "\n",
    "**a)** Cree un DataFrame llamado `df_anio` que consolide la información proveniente de los archivos **`libertad_prensa_01.csv`** y **`libertad_prensa_02.csv`**, correspondientes a distintas ventanas de tiempo. Recuerde que ambos archivos tienen nombres de columnas en mayúscula, por lo que debe normalizarlas a **minúscula** para asegurar consistencia.\n",
    "\n",
    "**b)** Explore el archivo **`libertad_prensa_codigo.csv`** e identifique el código ISO que aparece asociado a dos nombres de país distintos. Elimine el registro que corresponda a un valor incorrecto o inconsistente, conservando solo el que considere válido.\n",
    "\n",
    "**c)** Una vez preparados los archivos, cree un nuevo DataFrame llamado `df` que combine `df_anio` con `df_codigos`, utilizando la columna `codigo_iso` como clave. Asegúrese de realizar una unión que conserve únicamente los registros que tengan coincidencia en ambas fuentes.\n",
    "\n",
    "> **Sugerencia**:\n",
    ">\n",
    "> * Para unir los archivos por filas (años), utilice la función `pd.concat([...])`.\n",
    "> * Para combinar información por columnas (variables), utilice `pd.merge(...)` especificando `on='codigo_iso'`.\n",
    "\n"
   ]
  },
  {
   "cell_type": "code",
   "execution_count": 30,
   "id": "cfd268a0",
   "metadata": {
    "id": "cfd268a0"
   },
   "outputs": [],
   "source": [
    "# --- Asegura nombres de columnas consistentes (sin tildes) ---\n",
    "def normaliza_cols(df):\n",
    "    df.columns = [c.strip().lower() for c in df.columns]\n",
    "    ren = {'país': 'pais', 'año': 'anio', 'índice': 'indice'}  # posibles tildes\n",
    "    df.rename(columns={k: v for k, v in ren.items() if k in df.columns}, inplace=True)\n",
    "    return df\n",
    "\n",
    "# a) Consolidación por años\n",
    "dfs = []\n",
    "for url in archivos_anio:\n",
    "    t = pd.read_csv(url)\n",
    "    normaliza_cols(t)\n",
    "    dfs.append(t)\n",
    "df_anio = pd.concat(dfs, ignore_index=True)\n"
   ]
  },
  {
   "cell_type": "code",
   "execution_count": 31,
   "id": "cceffe1e-5612-4190-bd23-23ede9687231",
   "metadata": {},
   "outputs": [],
   "source": [
    "# Asegura minúsculas en df_codigos\n",
    "df_codigos.columns = [c.strip().lower() for c in df_codigos.columns]\n",
    "\n",
    "# (b) Si hay un ISO con dos países, deja solo uno.\n",
    "#    — Minimalista: quedarte con la primera aparición por ISO.\n",
    "dupes = df_codigos[\"codigo_iso\"].duplicated(keep=False)\n",
    "# opcional para que veas cuáles son los conflictivos:\n",
    "# print(df_codigos.loc[dupes].sort_values(\"codigo_iso\"))\n",
    "df_codigos_clean = df_codigos.drop_duplicates(subset=[\"codigo_iso\"], keep=\"first\").copy()\n"
   ]
  },
  {
   "cell_type": "code",
   "execution_count": 32,
   "id": "133d4541-d19a-4d3e-9e19-4ed1d0922b06",
   "metadata": {},
   "outputs": [
    {
     "name": "stdout",
     "output_type": "stream",
     "text": [
      "Index(['codigo_iso', 'pais', 'anio', 'indice', 'ranking'], dtype='object')\n"
     ]
    }
   ],
   "source": [
    "# (c) Unión SOLO por coincidencias usando codigo_iso (inner)\n",
    "df = pd.merge(\n",
    "    df_anio,                               # ya trae codigo_iso, anio, indice, ranking\n",
    "    df_codigos_clean[[\"codigo_iso\",\"pais\"]],\n",
    "    on=\"codigo_iso\",\n",
    "    how=\"inner\"\n",
    ")\n",
    "\n",
    "# Orden final de columnas como en el diccionario\n",
    "df = df[[\"codigo_iso\", \"pais\", \"anio\", \"indice\", \"ranking\"]]\n",
    "print(df.columns)"
   ]
  },
  {
   "cell_type": "markdown",
   "id": "282e8301",
   "metadata": {
    "id": "282e8301"
   },
   "source": [
    "\n",
    "\n",
    "### 2. Exploración inicial del conjunto de datos\n",
    "\n",
    "Una vez que hayas consolidado el DataFrame final `df`, realiza un análisis exploratorio básico respondiendo las siguientes preguntas:\n",
    "\n",
    "#### **Estructura del DataFrame**\n",
    "\n",
    "* ¿Cuántas **filas (observaciones)** contiene el conjunto de datos?\n",
    "* ¿Cuántas **columnas** tiene el DataFrame?\n",
    "* ¿Cuáles son los **nombres de las columnas**?\n",
    "* ¿Qué **tipo de datos** tiene cada columna?\n",
    "* ¿Hay columnas con un tipo de dato inesperado (por ejemplo, fechas como strings)?\n",
    "\n",
    "#### **Resumen estadístico**\n",
    "\n",
    "* Genera un resumen estadístico del conjunto de datos con `.describe()`.\n",
    "  ¿Qué observas sobre los valores de `indice` y `ranking`?\n",
    "* ¿Qué valores mínimo, máximo y promedio tiene la columna `indice`?\n",
    "* ¿Qué países presentan los valores extremos en `indice` y `ranking`?\n",
    "\n",
    "#### **Datos faltantes**\n",
    "\n",
    "* ¿Cuántos valores nulos hay en cada columna?\n",
    "* ¿Qué proporción de observaciones tienen valores faltantes?\n",
    "* ¿Hay columnas con más del 30% de datos faltantes?\n",
    "\n",
    "#### **Unicidad y duplicados**\n",
    "\n",
    "* ¿Cuántos países distintos (`pais`) hay en el DataFrame?\n",
    "* ¿Cuántos años distintos (`anio`) hay representados?\n",
    "* ¿Existen filas duplicadas (exactamente iguales)? ¿Cuántas?\n",
    "\n",
    "#### **Validación cruzada de columnas**\n",
    "\n",
    "* ¿Hay inconsistencias entre el país (`pais`) y su código (`codigo_iso`)?\n",
    "  (por ejemplo, un mismo código ISO asociado a más de un país)\n",
    "\n",
    "> **Sugerencia**: Apoya tu análisis con funciones como `.info()`, `.nunique()`, `.isnull().sum()`, `.duplicated()`, `.value_counts()`, entre otras.\n",
    "\n",
    "\n",
    "\n",
    "    "
   ]
  },
  {
   "cell_type": "code",
   "execution_count": 33,
   "id": "794a864d-4701-4b45-8650-104d077b8c55",
   "metadata": {},
   "outputs": [
    {
     "name": "stdout",
     "output_type": "stream",
     "text": [
      "Filas: 3060\n"
     ]
    }
   ],
   "source": [
    "# ¿Cuántas filas (observaciones) contiene el conjunto de datos?\n",
    "print(\"Filas:\", df.shape[0])"
   ]
  },
  {
   "cell_type": "code",
   "execution_count": 34,
   "id": "dbe5e152-a4b6-4a49-9ba0-0e3cb57335ad",
   "metadata": {},
   "outputs": [
    {
     "name": "stdout",
     "output_type": "stream",
     "text": [
      "Columnas: 5\n"
     ]
    }
   ],
   "source": [
    "# ¿Cuántas columnas tiene el DataFrame?\n",
    "print(\"Columnas:\", df.shape[1])\n"
   ]
  },
  {
   "cell_type": "code",
   "execution_count": 35,
   "id": "21c20ed4-40c3-42cd-b200-81600f9de491",
   "metadata": {},
   "outputs": [
    {
     "name": "stdout",
     "output_type": "stream",
     "text": [
      "Nombres de columnas: ['codigo_iso', 'pais', 'anio', 'indice', 'ranking']\n"
     ]
    }
   ],
   "source": [
    "# ¿Cuáles son los nombres de las columnas?\n",
    "print(\"Nombres de columnas:\", df.columns.tolist())\n"
   ]
  },
  {
   "cell_type": "code",
   "execution_count": 36,
   "id": "6edefe3b-7fb2-43ec-ac93-d77939c4719c",
   "metadata": {},
   "outputs": [
    {
     "name": "stdout",
     "output_type": "stream",
     "text": [
      "\n",
      "Tipos de datos por columna:\n",
      "codigo_iso     object\n",
      "pais           object\n",
      "anio            int64\n",
      "indice        float64\n",
      "ranking       float64\n",
      "dtype: object\n"
     ]
    }
   ],
   "source": [
    "# ¿Qué tipo de datos tiene cada columna?\n",
    "print(\"\\nTipos de datos por columna:\")\n",
    "print(df.dtypes)\n"
   ]
  },
  {
   "cell_type": "code",
   "execution_count": 37,
   "id": "07c8b90c-2ab1-40e6-afe0-9a4d51ccaebf",
   "metadata": {},
   "outputs": [
    {
     "name": "stdout",
     "output_type": "stream",
     "text": [
      "\n",
      "Chequeo simple de tipos esperados:\n",
      " - codigo_iso tipo texto?: True\n",
      " - pais       tipo texto?: True\n",
      " - anio       numérico?   : True\n",
      " - ranking    numérico?   : False\n",
      " - indice     numérico?   : False\n"
     ]
    }
   ],
   "source": [
    "# ¿Hay columnas con un tipo de dato inesperado (por ejemplo, fechas como strings)?\n",
    "# (Chequeo simple: esperamos 'codigo_iso' y 'pais' como objeto/string; 'anio' y 'ranking' numéricos; 'indice' numérico)\n",
    "print(\"\\nChequeo simple de tipos esperados:\")\n",
    "print(\" - codigo_iso tipo texto?:\", df[\"codigo_iso\"].dtype == \"object\")\n",
    "print(\" - pais       tipo texto?:\", df[\"pais\"].dtype == \"object\")\n",
    "print(\" - anio       numérico?   :\", pd.to_numeric(df[\"anio\"], errors=\"coerce\").notna().all())\n",
    "print(\" - ranking    numérico?   :\", pd.to_numeric(df[\"ranking\"], errors=\"coerce\").notna().all())\n",
    "print(\" - indice     numérico?   :\", pd.to_numeric(df[\"indice\"], errors=\"coerce\").notna().all())\n"
   ]
  },
  {
   "cell_type": "markdown",
   "id": "d312a5b8-b55d-4b3b-980c-0e01a61905f3",
   "metadata": {},
   "source": [
    "#### **Resumen Estadístico**"
   ]
  },
  {
   "cell_type": "code",
   "execution_count": 39,
   "id": "14369830",
   "metadata": {
    "id": "14369830"
   },
   "outputs": [
    {
     "name": "stdout",
     "output_type": "stream",
     "text": [
      "\n",
      "Resumen estadístico (numéricos):\n",
      "              anio        indice        ranking\n",
      "count  3060.000000   2664.000000    2837.000000\n",
      "mean   2009.941176    205.782316     477.930913\n",
      "std       5.786024   2695.525264    6474.935347\n",
      "min    2001.000000      0.000000       1.000000\n",
      "25%    2005.000000     15.295000      34.000000\n",
      "50%    2009.000000     28.000000      70.000000\n",
      "75%    2015.000000     41.227500     110.000000\n",
      "max    2019.000000  64536.000000  121056.000000\n"
     ]
    }
   ],
   "source": [
    "# Genera un resumen estadístico SOLO de columnas numéricas (compatible con pandas antiguo)\n",
    "print(\"\\nResumen estadístico (numéricos):\")\n",
    "num = df.select_dtypes(include=[\"number\"])\n",
    "print(num.describe())"
   ]
  },
  {
   "cell_type": "code",
   "execution_count": 40,
   "id": "22e3be5c-f160-4d94-846c-08fa2369e2da",
   "metadata": {},
   "outputs": [
    {
     "name": "stdout",
     "output_type": "stream",
     "text": [
      "\n",
      "Índice (min, max, mean):\n",
      " - min: 0.0\n",
      " - max: 64536.0\n",
      " - mean: 205.7823160660661\n"
     ]
    }
   ],
   "source": [
    "# ¿Qué valores mínimo, máximo y promedio tiene la columna 'indice'?\n",
    "print(\"\\nÍndice (min, max, mean):\")\n",
    "ind = pd.to_numeric(df[\"indice\"], errors=\"coerce\")  # robusto si viniera como texto\n",
    "print(\" - min:\", ind.min())\n",
    "print(\" - max:\", ind.max())\n",
    "print(\" - mean:\", ind.mean())\n"
   ]
  },
  {
   "cell_type": "code",
   "execution_count": 41,
   "id": "5b404312-28c0-4bc0-b416-35f03521b7f9",
   "metadata": {},
   "outputs": [
    {
     "name": "stdout",
     "output_type": "stream",
     "text": [
      "\n",
      "País(es) con índice mínimo (mejor libertad): ['Dinamarca', 'Finlandia', 'Irlanda', 'Noruega', 'Suecia', 'Suiza', 'Islandia', 'Países Bajos']  (indice = 0.0 )\n",
      "País(es) con índice máximo (peor libertad): ['Kosovo']  (indice = 64536.0 )\n",
      "País(es) con ranking mínimo (mejor puesto): ['Finlandia', 'Islandia', 'Países Bajos', 'Noruega', 'Suiza', 'Dinamarca', 'Irlanda', 'Eslovaquia', 'Luxemburgo', 'Estonia', 'Austria', 'Nueva Zelanda']  (ranking = 1.0 )\n",
      "País(es) con ranking máximo (peor puesto): ['Kosovo']  (ranking = 121056.0 )\n"
     ]
    }
   ],
   "source": [
    "# ¿Qué países presentan los valores extremos en 'indice' y 'ranking'?\n",
    "rk = pd.to_numeric(df[\"ranking\"], errors=\"coerce\")\n",
    "\n",
    "paises_min_ind = df.loc[ind == ind.min(), \"pais\"].dropna().unique().tolist()\n",
    "paises_max_ind = df.loc[ind == ind.max(), \"pais\"].dropna().unique().tolist()\n",
    "\n",
    "paises_min_rk = df.loc[rk == rk.min(), \"pais\"].dropna().unique().tolist()\n",
    "paises_max_rk = df.loc[rk == rk.max(), \"pais\"].dropna().unique().tolist()\n",
    "\n",
    "print(\"\\nPaís(es) con índice mínimo (mejor libertad):\", paises_min_ind, \" (indice =\", ind.min(), \")\")\n",
    "print(\"País(es) con índice máximo (peor libertad):\", paises_max_ind, \" (indice =\", ind.max(), \")\")\n",
    "print(\"País(es) con ranking mínimo (mejor puesto):\", paises_min_rk, \" (ranking =\", rk.min(), \")\")\n",
    "print(\"País(es) con ranking máximo (peor puesto):\", paises_max_rk, \" (ranking =\", rk.max(), \")\")"
   ]
  },
  {
   "cell_type": "markdown",
   "id": "074f3123-ca1e-4f28-8398-f6bd2fd4ce33",
   "metadata": {},
   "source": [
    "####  **Datos faltantes**"
   ]
  },
  {
   "cell_type": "code",
   "execution_count": 48,
   "id": "7abcd047-04ac-4e8b-a138-c93cc447da0f",
   "metadata": {},
   "outputs": [
    {
     "name": "stdout",
     "output_type": "stream",
     "text": [
      "\n",
      "Nulos por columna (ordenados):\n",
      "            nulos  pct_nulos\n",
      "indice        396      12.94\n",
      "ranking       223       7.29\n",
      "codigo_iso      0       0.00\n",
      "anio            0       0.00\n",
      "pais            0       0.00\n"
     ]
    }
   ],
   "source": [
    "#¿Cuántos valores nulos hay en cada columna?\n",
    "nulos_por_col = df.isna().sum()\n",
    "pct_nulos_por_col = (nulos_por_col / len(df) * 100) if len(df) else 0\n",
    "resumen_nulos = (\n",
    "    pd.DataFrame({\n",
    "        \"nulos\": nulos_por_col,\n",
    "        \"pct_nulos\": (nulos_por_col / len(df) * 100).round(2) if len(df) else nulos_por_col*0\n",
    "    })\n",
    "    .sort_values(\"nulos\", ascending=False)\n",
    ")\n",
    "print(\"\\nNulos por columna (ordenados):\")\n",
    "print(resumen_nulos.to_string())"
   ]
  },
  {
   "cell_type": "code",
   "execution_count": 49,
   "id": "1dd835e9-a4ee-4277-b454-60249b5a4c6e",
   "metadata": {},
   "outputs": [
    {
     "name": "stdout",
     "output_type": "stream",
     "text": [
      "\n",
      "Filas con ≥1 valor faltante: 397 de 3060  (12.97%)\n"
     ]
    }
   ],
   "source": [
    "#¿Qué proporción de observaciones tienen valores faltantes?\n",
    "filas_con_nulo = df.isna().any(axis=1).sum()\n",
    "prop_filas_con_nulo = (filas_con_nulo / len(df)) if len(df) else 0\n",
    "print(f\"\\nFilas con ≥1 valor faltante: {filas_con_nulo} de {len(df)}  ({prop_filas_con_nulo:.2%})\")\n"
   ]
  },
  {
   "cell_type": "code",
   "execution_count": 50,
   "id": "9a34f009-1704-44bd-a0ac-f9404061676b",
   "metadata": {},
   "outputs": [
    {
     "name": "stdout",
     "output_type": "stream",
     "text": [
      "\n",
      "No hay columnas con >30% de nulos.\n"
     ]
    }
   ],
   "source": [
    "#¿Hay columnas con más del 30% de datos faltantes?\n",
    "umbral = 0.30\n",
    "cols_mas_30 = resumen_nulos[resumen_nulos[\"pct_nulos\"] > umbral * 100]\n",
    "if cols_mas_30.empty:\n",
    "    print(\"\\nNo hay columnas con >30% de nulos.\")\n",
    "else:\n",
    "    print(\"\\nColumnas con >30% de nulos:\")\n",
    "    print(cols_mas_30.to_string())"
   ]
  },
  {
   "cell_type": "markdown",
   "id": "34757666-dd4c-4b05-8fe8-7e31ef8de6c6",
   "metadata": {},
   "source": [
    "#### **Unicidad y duplicados**"
   ]
  },
  {
   "cell_type": "code",
   "execution_count": 51,
   "id": "ecf97238-6467-4a42-9cfa-e88293089c5f",
   "metadata": {},
   "outputs": [
    {
     "name": "stdout",
     "output_type": "stream",
     "text": [
      "Países distintos: 179\n"
     ]
    }
   ],
   "source": [
    "#Cuántos países distintos (pais) hay en el DataFrame?\n",
    "n_paises = df[\"pais\"].nunique()\n",
    "print(\"Países distintos:\", n_paises)"
   ]
  },
  {
   "cell_type": "code",
   "execution_count": 53,
   "id": "041db245-0826-4063-b9ee-2a2e16bcc044",
   "metadata": {},
   "outputs": [
    {
     "name": "stdout",
     "output_type": "stream",
     "text": [
      "Años distintos: 17\n"
     ]
    }
   ],
   "source": [
    "#¿Cuántos años distintos (anio) hay representados?\n",
    "n_anios = df[\"anio\"].nunique()\n",
    "print(\"Años distintos:\", n_anios)"
   ]
  },
  {
   "cell_type": "code",
   "execution_count": 54,
   "id": "5290d0aa-70a9-47ac-a383-48c2d88f22a8",
   "metadata": {},
   "outputs": [
    {
     "name": "stdout",
     "output_type": "stream",
     "text": [
      "Filas duplicadas (todas las columnas iguales): 0\n"
     ]
    }
   ],
   "source": [
    "#¿Existen filas duplicadas (exactamente iguales)? ¿Cuántas?\n",
    "n_dup_filas = df.duplicated(keep=\"first\").sum()\n",
    "print(\"Filas duplicadas (todas las columnas iguales):\", n_dup_filas)"
   ]
  },
  {
   "cell_type": "markdown",
   "id": "5d9d8a0a-c78c-43b1-adb6-ff229e7ea945",
   "metadata": {},
   "source": [
    "#### **Validación cruzada de columnas**"
   ]
  },
  {
   "cell_type": "code",
   "execution_count": 55,
   "id": "6f5cbc7a-2d06-4365-8f1d-08a6cee85e9b",
   "metadata": {},
   "outputs": [
    {
     "name": "stdout",
     "output_type": "stream",
     "text": [
      "Validación cruzada de país y código ISO:\n"
     ]
    },
    {
     "data": {
      "text/plain": [
       "codigo_iso\n",
       "AFG    1\n",
       "AGO    1\n",
       "ALB    1\n",
       "AND    1\n",
       "ARE    1\n",
       "      ..\n",
       "WSM    1\n",
       "YEM    1\n",
       "ZAF    1\n",
       "ZMB    1\n",
       "ZWE    1\n",
       "Name: pais, Length: 180, dtype: int64"
      ]
     },
     "metadata": {},
     "output_type": "display_data"
    }
   ],
   "source": [
    "print(\"Validación cruzada de país y código ISO:\")\n",
    "display(df.groupby('codigo_iso')['pais'].nunique())\n"
   ]
  },
  {
   "cell_type": "markdown",
   "id": "98efcc39",
   "metadata": {
    "id": "98efcc39"
   },
   "source": [
    "\n",
    "\n",
    "\n",
    "### 3. Comparación regional: países latinoamericanos\n",
    "\n",
    "En esta sección se busca identificar cuáles son los países de América Latina que han presentado los valores extremos del **Índice de Libertad de Prensa** en cada año observado.\n",
    "\n",
    "> Recuerda que un menor puntaje en `indice` implica mayor libertad de prensa.\n",
    "\n",
    "#### **Tareas:**\n",
    "\n",
    "**a)** Utilizando un ciclo `for`, recorre cada año del conjunto de datos filtrado por países latinoamericanos, y determina para cada año:\n",
    "\n",
    "* El país con el menor valor de `indice` (mayor libertad de prensa).\n",
    "* El país con el mayor valor de `indice` (menor libertad de prensa).\n",
    "\n",
    "**b)** Resuelve la misma tarea del punto anterior utilizando un enfoque vectorizado con `groupby`, sin usar ciclos explícitos.\n",
    "\n",
    "\n",
    "\n",
    "#### **Lista de países latinoamericanos considerada:**\n",
    "\n",
    "```python\n",
    "america = ['ARG', 'ATG', 'BLZ', 'BOL', 'BRA', 'CAN', 'CHL', 'COL', 'CRI',\n",
    "           'CUB', 'DOM', 'ECU', 'GRD', 'GTM', 'GUY', 'HND', 'HTI', 'JAM',\n",
    "           'MEX', 'NIC', 'PAN', 'PER', 'PRY', 'SLV', 'SUR', 'TTO', 'URY',\n",
    "           'USA', 'VEN']\n",
    "```\n",
    "\n",
    "> Puedes usar esta lista para filtrar el DataFrame final por la columna `codigo_iso`.\n",
    "\n"
   ]
  },
  {
   "cell_type": "code",
   "execution_count": 61,
   "id": "9077a9bc",
   "metadata": {
    "id": "9077a9bc"
   },
   "outputs": [],
   "source": [
    "# respuesta\n",
    "america = ['ARG', 'ATG', 'BLZ', 'BOL', 'BRA', 'CAN', 'CHL', 'COL', 'CRI',\n",
    "       'CUB', 'DOM', 'ECU', 'GRD', 'GTM', 'GUY', 'HND', 'HTI', 'JAM',\n",
    "       'MEX', 'NIC', 'PAN', 'PER', 'PRY', 'SLV', 'SUR', 'TTO', 'URY',\n",
    "       'USA', 'VEN']\n",
    "\n",
    "df_america = df[df[\"codigo_iso\"].isin(america)].copy()\n",
    "\n",
    "#print(sorted(df_america[\"codigo_iso\"].unique()))\n",
    "#print(df_america.shape)"
   ]
  },
  {
   "cell_type": "code",
   "execution_count": 60,
   "id": "e21c6c55-3551-4eb3-a53f-4453dd56cfe8",
   "metadata": {},
   "outputs": [
    {
     "name": "stdout",
     "output_type": "stream",
     "text": [
      "\n",
      "(a) Extremos por año:\n",
      " anio  indice_min          pais_min  indice_max  pais_max\n",
      " 2001        0.80            Canadá       90.30      Cuba\n",
      " 2002        1.00 Trinidad y Tobago       97.83      Cuba\n",
      " 2003        2.00 Trinidad y Tobago    35826.00 Argentina\n",
      " 2004        2.00 Trinidad y Tobago       87.00      Cuba\n",
      " 2005        4.50   Bolivia, Canadá       95.00      Cuba\n",
      " 2006        4.88            Canadá       96.17      Cuba\n",
      " 2007        3.33            Canadá       88.33      Cuba\n",
      " 2008        3.70            Canadá       94.00      Cuba\n",
      " 2009        6.75    Estados Unidos       78.00      Cuba\n",
      " 2012        9.88           Jamaica       71.64      Cuba\n",
      " 2013       10.90           Jamaica       70.92      Cuba\n",
      " 2014       10.99            Canadá       70.21      Cuba\n",
      " 2015       11.10        Costa Rica       70.23      Cuba\n",
      " 2016         NaN                           NaN          \n",
      " 2017       11.93        Costa Rica       71.75      Cuba\n",
      " 2018       11.33           Jamaica       68.90      Cuba\n",
      " 2019       11.13           Jamaica       63.81      Cuba\n"
     ]
    }
   ],
   "source": [
    "#a) \n",
    "anios = sorted(df_america[\"anio\"].dropna().unique().tolist())\n",
    "res_a = []\n",
    "for a in anios:\n",
    "    t = df_america[df_america[\"anio\"] == a]\n",
    "    if t.empty:\n",
    "        continue\n",
    "    min_val = t[\"indice\"].min()\n",
    "    max_val = t[\"indice\"].max()\n",
    "    pais_min = sorted(t.loc[t[\"indice\"] == min_val, \"pais\"].dropna().unique().tolist())\n",
    "    pais_max = sorted(t.loc[t[\"indice\"] == max_val, \"pais\"].dropna().unique().tolist())\n",
    "    res_a.append({\n",
    "        \"anio\": int(a),\n",
    "        \"indice_min\": float(min_val),\n",
    "        \"pais_min\": \", \".join(pais_min),\n",
    "        \"indice_max\": float(max_val),\n",
    "        \"pais_max\": \", \".join(pais_max)\n",
    "    })\n",
    "\n",
    "extremos_for = pd.DataFrame(res_a).sort_values(\"anio\")\n",
    "print(\"\\n(a) Extremos por año:\")\n",
    "print(extremos_for.to_string(index=False))\n"
   ]
  },
  {
   "cell_type": "code",
   "execution_count": 62,
   "id": "64809496-8929-4b8f-b04e-910ebb8e6155",
   "metadata": {},
   "outputs": [
    {
     "name": "stdout",
     "output_type": "stream",
     "text": [
      "\n",
      "(b) Extremos por año (groupby vectorizado):\n",
      " anio  indice_min          pais_min  indice_max  pais_max\n",
      " 2001        0.80            Canadá       90.30      Cuba\n",
      " 2002        1.00 Trinidad y Tobago       97.83      Cuba\n",
      " 2003        2.00 Trinidad y Tobago    35826.00 Argentina\n",
      " 2004        2.00 Trinidad y Tobago       87.00      Cuba\n",
      " 2005        4.50   Bolivia, Canadá       95.00      Cuba\n",
      " 2006        4.88            Canadá       96.17      Cuba\n",
      " 2007        3.33            Canadá       88.33      Cuba\n",
      " 2008        3.70            Canadá       94.00      Cuba\n",
      " 2009        6.75    Estados Unidos       78.00      Cuba\n",
      " 2012        9.88           Jamaica       71.64      Cuba\n",
      " 2013       10.90           Jamaica       70.92      Cuba\n",
      " 2014       10.99            Canadá       70.21      Cuba\n",
      " 2015       11.10        Costa Rica       70.23      Cuba\n",
      " 2017       11.93        Costa Rica       71.75      Cuba\n",
      " 2018       11.33           Jamaica       68.90      Cuba\n",
      " 2019       11.13           Jamaica       63.81      Cuba\n"
     ]
    }
   ],
   "source": [
    "# (b) Enfoque vectorizado con groupby \n",
    "mins = df_america[\"indice\"] == df_america.groupby(\"anio\")[\"indice\"].transform(\"min\")\n",
    "maxs = df_america[\"indice\"] == df_america.groupby(\"anio\")[\"indice\"].transform(\"max\")\n",
    "\n",
    "# Tabla de mínimos por año (maneja empates)\n",
    "min_tab = (\n",
    "    df_america.loc[mins, [\"anio\", \"indice\", \"pais\"]]\n",
    "      .groupby(\"anio\")\n",
    "      .agg({\n",
    "          \"indice\": \"min\",\n",
    "          \"pais\":   lambda x: \", \".join(sorted(pd.Series(x).dropna().unique().tolist()))\n",
    "      })\n",
    "      .rename(columns={\"indice\":\"indice_min\", \"pais\":\"pais_min\"})\n",
    "      .reset_index()\n",
    ")\n",
    "\n",
    "# Tabla de máximos por año (maneja empates)\n",
    "max_tab = (\n",
    "    df_america.loc[maxs, [\"anio\", \"indice\", \"pais\"]]\n",
    "      .groupby(\"anio\")\n",
    "      .agg({\n",
    "          \"indice\": \"max\",\n",
    "          \"pais\":   lambda x: \", \".join(sorted(pd.Series(x).dropna().unique().tolist()))\n",
    "      })\n",
    "      .rename(columns={\"indice\":\"indice_max\", \"pais\":\"pais_max\"})\n",
    "      .reset_index()\n",
    ")\n",
    "\n",
    "extremos_gb = (\n",
    "    min_tab.merge(max_tab, on=\"anio\", how=\"inner\")\n",
    "           .sort_values(\"anio\")\n",
    ")\n",
    "\n",
    "print(\"\\n(b) Extremos por año (groupby vectorizado):\")\n",
    "print(extremos_gb.to_string(index=False))"
   ]
  },
  {
   "cell_type": "markdown",
   "id": "91532f43",
   "metadata": {
    "id": "91532f43"
   },
   "source": [
    "### 4. Análisis anual del índice por país\n",
    "\n",
    "En esta sección se busca analizar la evolución del **índice máximo** de libertad de prensa alcanzado por cada país a lo largo del tiempo.\n",
    "\n",
    "#### **Tarea principal:**\n",
    "\n",
    "* Construye una tabla dinámica (`pivot_table`) donde las **filas** correspondan a los países, las **columnas** a los años (`anio`) y los **valores** sean el `indice` máximo alcanzado por cada país en ese año.\n",
    "* Asegúrate de reemplazar los valores nulos resultantes con `0`.\n",
    "\n",
    "> **Hint**: Puedes utilizar el parámetro `fill_value=0` en `pd.pivot_table(...)`.\n",
    "\n",
    "\n",
    "\n",
    "#### **Preguntas adicionales:**\n",
    "\n",
    "**a)** ¿Qué país tiene el mayor valor de `indice` en toda la tabla resultante? ¿Y cuál tiene el menor (distinto de cero)?\n",
    "**b)** ¿Qué años presentan en promedio los valores de `indice` más altos? ¿Y los más bajos?\n",
    "\n",
    "> (Pista: usa `.mean(axis=0)` sobre la tabla pivot)\n",
    "\n",
    "**c)** ¿Qué país muestra mayor **variabilidad** (diferencia entre su máximo y mínimo `indice` a lo largo del tiempo)?\n",
    "\n",
    "> (Pista: aplica `.max(axis=1) - .min(axis=1)`)\n",
    "\n",
    "**d)** ¿Existen países con índice constante a lo largo de todos los años registrados? ¿Cuáles?\n",
    "\n",
    "**e)** ¿Qué países no tienen ningún dato (es decir, quedaron con todos los valores igual a 0)? ¿Podrías explicar por qué?\n",
    "\n",
    "\n",
    "\n"
   ]
  },
  {
   "cell_type": "code",
   "execution_count": 64,
   "id": "c844a0a8",
   "metadata": {
    "id": "c844a0a8"
   },
   "outputs": [
    {
     "name": "stdout",
     "output_type": "stream",
     "text": [
      "Dimensión (filas x columnas): (179, 16)\n",
      "anio         2001   2002   2003   2004   2005   2006   2007   2008   2009   2012   2013   2014   2015   2017   2018   2019\n",
      "pais                                                                                                                      \n",
      "Afghanistán  35.5  40.17  28.25  39.17  44.25  56.50  59.25  54.25  51.67  37.36  37.07  37.44  37.75  39.46  37.28  36.55\n",
      "Albania       0.0   6.50  11.50  14.17  18.00  25.50  16.00  21.75  21.50  30.88  29.92  28.77  29.92  29.92  29.49  29.84\n",
      "Alemania      1.5   1.33   2.00   4.00   5.50   5.75   4.50   3.50   4.25  10.24  10.23  11.47  14.80  14.97  14.39  14.60\n",
      "Algeria      31.0  33.00  43.50  40.33  40.00  40.50  31.33  49.56  47.33  36.54  36.26  36.63  41.69  42.83  43.13  45.75\n",
      "Andorra       0.0   0.00   0.00   0.00   0.00   0.00   0.00   0.00   0.00   6.82   6.82  19.87  19.87  21.03  22.21  24.63\n"
     ]
    }
   ],
   "source": [
    "# Tarea principal:\n",
    "df[\"indice\"] = pd.to_numeric(df[\"indice\"], errors=\"coerce\")\n",
    "\n",
    "pivot_indice_max = pd.pivot_table(\n",
    "    df,\n",
    "    index=\"pais\",\n",
    "    columns=\"anio\",\n",
    "    values=\"indice\",\n",
    "    aggfunc=\"max\",\n",
    "    fill_value=0\n",
    ")\n",
    "\n",
    "# (opcional) vista rápida\n",
    "print(\"Dimensión (filas x columnas):\", pivot_indice_max.shape)\n",
    "print(pivot_indice_max.head().to_string())"
   ]
  },
  {
   "cell_type": "markdown",
   "id": "3fe41122-a517-4c8b-9eaa-ccb409379848",
   "metadata": {},
   "source": [
    "#### **Preguntas adicionales**"
   ]
  },
  {
   "cell_type": "code",
   "execution_count": 66,
   "id": "f1218ad8-4b76-431a-8556-25af05a8cc63",
   "metadata": {},
   "outputs": [
    {
     "name": "stdout",
     "output_type": "stream",
     "text": [
      "País con el mayor índice en toda la tabla: Kosovo (64536.0)\n",
      "País con el menor índice (≠ 0) en toda la tabla: Austria (0.5)\n"
     ]
    }
   ],
   "source": [
    "# a)\n",
    "\n",
    "max_indice_total = pivot_indice_max.max().max()\n",
    "min_indice_total = pivot_indice_max[pivot_indice_max > 0].min().min()  # excluye ceros\n",
    "\n",
    "pais_max_total = pivot_indice_max[pivot_indice_max == max_indice_total].stack().idxmax()[0]\n",
    "pais_min_total = pivot_indice_max[pivot_indice_max == min_indice_total].stack().idxmin()[0]\n",
    "\n",
    "print(f\"País con el mayor índice en toda la tabla: {pais_max_total} ({max_indice_total})\")\n",
    "print(f\"País con el menor índice (≠ 0) en toda la tabla: {pais_min_total} ({min_indice_total})\")"
   ]
  },
  {
   "cell_type": "code",
   "execution_count": 67,
   "id": "9104873a-20d5-4f18-8f3e-5c654396f191",
   "metadata": {},
   "outputs": [
    {
     "name": "stdout",
     "output_type": "stream",
     "text": [
      "Año(s) con el promedio de índice más alto: [2013] (449.11446927374294)\n",
      "Año(s) con el promedio de índice más bajo: [2001] (20.03240223463687)\n"
     ]
    }
   ],
   "source": [
    "# b) ¿Qué años presentan en promedio los valores de indice más altos y más bajos?\n",
    "prom_por_anio = pivot_indice_max.mean(axis=0)\n",
    "valor_prom_mas_alto = prom_por_anio.max()\n",
    "valor_prom_mas_bajo  = prom_por_anio.min()\n",
    "anios_prom_mas_alto  = prom_por_anio[prom_por_anio == valor_prom_mas_alto].index.tolist()\n",
    "anios_prom_mas_bajo  = prom_por_anio[prom_por_anio == valor_prom_mas_bajo].index.tolist()\n",
    "\n",
    "print(f\"Año(s) con el promedio de índice más alto: {anios_prom_mas_alto} ({valor_prom_mas_alto})\")\n",
    "print(f\"Año(s) con el promedio de índice más bajo: {anios_prom_mas_bajo} ({valor_prom_mas_bajo})\")\n"
   ]
  },
  {
   "cell_type": "code",
   "execution_count": 68,
   "id": "4b6e2821-81b7-44e2-aac3-5dbd071058ff",
   "metadata": {},
   "outputs": [
    {
     "name": "stdout",
     "output_type": "stream",
     "text": [
      "País con la mayor variabilidad en el índice: Kosovo (64536.0)\n"
     ]
    }
   ],
   "source": [
    "# c) ¿Qué país muestra mayor variabilidad (max - min a lo largo del tiempo)?\n",
    "variab = pivot_indice_max.max(axis=1) - pivot_indice_max.min(axis=1)\n",
    "valor_variab_max = variab.max()\n",
    "pais_mayor_variab = variab.idxmax()\n",
    "\n",
    "print(f\"País con la mayor variabilidad en el índice: {pais_mayor_variab} ({valor_variab_max})\")\n"
   ]
  },
  {
   "cell_type": "code",
   "execution_count": 69,
   "id": "ec0897e2-462b-4c36-984b-2f110cdede72",
   "metadata": {},
   "outputs": [
    {
     "name": "stdout",
     "output_type": "stream",
     "text": [
      "Países con índice constante en todos los años (excluyendo filas solo-ceros):\n"
     ]
    },
    {
     "data": {
      "text/html": [
       "<div>\n",
       "<style scoped>\n",
       "    .dataframe tbody tr th:only-of-type {\n",
       "        vertical-align: middle;\n",
       "    }\n",
       "\n",
       "    .dataframe tbody tr th {\n",
       "        vertical-align: top;\n",
       "    }\n",
       "\n",
       "    .dataframe thead th {\n",
       "        text-align: right;\n",
       "    }\n",
       "</style>\n",
       "<table border=\"1\" class=\"dataframe\">\n",
       "  <thead>\n",
       "    <tr style=\"text-align: right;\">\n",
       "      <th>anio</th>\n",
       "      <th>2001</th>\n",
       "      <th>2002</th>\n",
       "      <th>2003</th>\n",
       "      <th>2004</th>\n",
       "      <th>2005</th>\n",
       "      <th>2006</th>\n",
       "      <th>2007</th>\n",
       "      <th>2008</th>\n",
       "      <th>2009</th>\n",
       "      <th>2012</th>\n",
       "      <th>2013</th>\n",
       "      <th>2014</th>\n",
       "      <th>2015</th>\n",
       "      <th>2017</th>\n",
       "      <th>2018</th>\n",
       "      <th>2019</th>\n",
       "    </tr>\n",
       "    <tr>\n",
       "      <th>pais</th>\n",
       "      <th></th>\n",
       "      <th></th>\n",
       "      <th></th>\n",
       "      <th></th>\n",
       "      <th></th>\n",
       "      <th></th>\n",
       "      <th></th>\n",
       "      <th></th>\n",
       "      <th></th>\n",
       "      <th></th>\n",
       "      <th></th>\n",
       "      <th></th>\n",
       "      <th></th>\n",
       "      <th></th>\n",
       "      <th></th>\n",
       "      <th></th>\n",
       "    </tr>\n",
       "  </thead>\n",
       "  <tbody>\n",
       "  </tbody>\n",
       "</table>\n",
       "</div>"
      ],
      "text/plain": [
       "Empty DataFrame\n",
       "Columns: [2001, 2002, 2003, 2004, 2005, 2006, 2007, 2008, 2009, 2012, 2013, 2014, 2015, 2017, 2018, 2019]\n",
       "Index: []"
      ]
     },
     "metadata": {},
     "output_type": "display_data"
    }
   ],
   "source": [
    "# d) ¿Existen países con índice constante en todos los años (excluyendo los que solo tienen ceros)?\n",
    "mask_constante = (pivot_indice_max.max(axis=1) == pivot_indice_max.min(axis=1)) & (pivot_indice_max.min(axis=1) > 0)\n",
    "constantes = pivot_indice_max.loc[mask_constante]\n",
    "\n",
    "print(\"Países con índice constante en todos los años (excluyendo filas solo-ceros):\")\n",
    "display(constantes)"
   ]
  },
  {
   "cell_type": "code",
   "execution_count": 71,
   "id": "660353a2-7da8-4abc-bb2a-35f374835ca4",
   "metadata": {},
   "outputs": [
    {
     "name": "stdout",
     "output_type": "stream",
     "text": [
      "Países sin datos (toda la fila igual a 0):\n"
     ]
    },
    {
     "data": {
      "text/html": [
       "<div>\n",
       "<style scoped>\n",
       "    .dataframe tbody tr th:only-of-type {\n",
       "        vertical-align: middle;\n",
       "    }\n",
       "\n",
       "    .dataframe tbody tr th {\n",
       "        vertical-align: top;\n",
       "    }\n",
       "\n",
       "    .dataframe thead th {\n",
       "        text-align: right;\n",
       "    }\n",
       "</style>\n",
       "<table border=\"1\" class=\"dataframe\">\n",
       "  <thead>\n",
       "    <tr style=\"text-align: right;\">\n",
       "      <th>anio</th>\n",
       "      <th>2001</th>\n",
       "      <th>2002</th>\n",
       "      <th>2003</th>\n",
       "      <th>2004</th>\n",
       "      <th>2005</th>\n",
       "      <th>2006</th>\n",
       "      <th>2007</th>\n",
       "      <th>2008</th>\n",
       "      <th>2009</th>\n",
       "      <th>2012</th>\n",
       "      <th>2013</th>\n",
       "      <th>2014</th>\n",
       "      <th>2015</th>\n",
       "      <th>2017</th>\n",
       "      <th>2018</th>\n",
       "      <th>2019</th>\n",
       "    </tr>\n",
       "    <tr>\n",
       "      <th>pais</th>\n",
       "      <th></th>\n",
       "      <th></th>\n",
       "      <th></th>\n",
       "      <th></th>\n",
       "      <th></th>\n",
       "      <th></th>\n",
       "      <th></th>\n",
       "      <th></th>\n",
       "      <th></th>\n",
       "      <th></th>\n",
       "      <th></th>\n",
       "      <th></th>\n",
       "      <th></th>\n",
       "      <th></th>\n",
       "      <th></th>\n",
       "      <th></th>\n",
       "    </tr>\n",
       "  </thead>\n",
       "  <tbody>\n",
       "  </tbody>\n",
       "</table>\n",
       "</div>"
      ],
      "text/plain": [
       "Empty DataFrame\n",
       "Columns: [2001, 2002, 2003, 2004, 2005, 2006, 2007, 2008, 2009, 2012, 2013, 2014, 2015, 2017, 2018, 2019]\n",
       "Index: []"
      ]
     },
     "metadata": {},
     "output_type": "display_data"
    }
   ],
   "source": [
    "# e) ¿Qué países no tienen ningún dato (toda la fila = 0)? ¿Por qué?\n",
    "mask_todo_cero = pivot_indice_max.sum(axis=1) == 0\n",
    "sin_datos = pivot_indice_max.loc[mask_todo_cero]\n",
    "\n",
    "print(\"Países sin datos (toda la fila igual a 0):\")\n",
    "display(sin_datos)\n"
   ]
  },
  {
   "cell_type": "markdown",
   "id": "07b9b9ce-04f4-4641-bee0-af28bfe30d95",
   "metadata": {},
   "source": [
    "## Explicación:\n",
    "Estos países no registran observaciones en los archivos de origen para los años considerados; al crear la tabla dinámica se usó fill_value=0, por eso quedaron en 0 en todos los años.\")"
   ]
  }
 ],
 "metadata": {
  "colab": {
   "provenance": []
  },
  "kernelspec": {
   "display_name": "Python 3 (ipykernel)",
   "language": "python",
   "name": "python3"
  },
  "language_info": {
   "codemirror_mode": {
    "name": "ipython",
    "version": 3
   },
   "file_extension": ".py",
   "mimetype": "text/x-python",
   "name": "python",
   "nbconvert_exporter": "python",
   "pygments_lexer": "ipython3",
   "version": "3.12.4"
  }
 },
 "nbformat": 4,
 "nbformat_minor": 5
}
